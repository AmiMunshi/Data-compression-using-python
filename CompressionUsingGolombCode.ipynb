{
  "nbformat": 4,
  "nbformat_minor": 0,
  "metadata": {
    "colab": {
      "name": "CompressionUsingGolombCode.ipynb",
      "provenance": [],
      "authorship_tag": "ABX9TyO7VtW6TOYjv2aiaZonT6n5",
      "include_colab_link": true
    },
    "kernelspec": {
      "name": "python3",
      "display_name": "Python 3"
    },
    "language_info": {
      "name": "python"
    }
  },
  "cells": [
    {
      "cell_type": "markdown",
      "metadata": {
        "id": "view-in-github",
        "colab_type": "text"
      },
      "source": [
        "<a href=\"https://colab.research.google.com/github/AmiMunshi/Data-compression-using-python/blob/master/CompressionUsingGolombCode.ipynb\" target=\"_parent\"><img src=\"https://colab.research.google.com/assets/colab-badge.svg\" alt=\"Open In Colab\"/></a>"
      ]
    },
    {
      "cell_type": "code",
      "metadata": {
        "id": "ncrPNjeQxch0"
      },
      "source": [
        "#Function to obtain unary code\n",
        "def unary1(N):\n",
        "    N= int(N)\n",
        "    A= []\n",
        "    for i in range(N):\n",
        "        A.append(1)\n",
        "    A.append(0)\n",
        "    B= [str(k) for k in A]\n",
        "    C= \"\".join(B)\n",
        "    return(C)"
      ],
      "execution_count": null,
      "outputs": []
    },
    {
      "cell_type": "code",
      "metadata": {
        "id": "KS50qFoczXsa"
      },
      "source": [
        "#Function to obtain Golomb code\n",
        "def golomb(m,n):\n",
        "  import math\n",
        "  \n",
        "  q= n/m\n",
        "  code1= unary1(q)\n",
        "  k= int(round(math.log(m,2)))\n",
        "  c= 2**k -m\n",
        "  r= n%m\n",
        "  if r<c:\n",
        "      code2= format(r, '08b')[-(k-1)::]\n",
        "      \n",
        "  else:\n",
        "      code2= format(r+c, '08b')[-k::]\n",
        "  code=code1+code2\n",
        "  return code\n",
        "  "
      ],
      "execution_count": null,
      "outputs": []
    },
    {
      "cell_type": "code",
      "metadata": {
        "colab": {
          "base_uri": "https://localhost:8080/"
        },
        "id": "Z0PWTTsB3uKV",
        "outputId": "94d670cd-6b0f-4d28-d5b8-fbdf8ca013c7"
      },
      "source": [
        "#Check the fucntion of Golomb code\n",
        "m= int(input(\"Enter m \"))\n",
        "n= int(input(\"Enter n \"))\n",
        "print(\"Golomb code is \",golomb(m,n))"
      ],
      "execution_count": null,
      "outputs": [
        {
          "output_type": "stream",
          "text": [
            "Enter m 4\n",
            "Enter n 9\n",
            "Golomb code is  11001\n"
          ],
          "name": "stdout"
        }
      ]
    },
    {
      "cell_type": "code",
      "metadata": {
        "colab": {
          "base_uri": "https://localhost:8080/"
        },
        "id": "JJKJ6m_PCS5-",
        "outputId": "06e9e3c5-c6e1-42bc-bd30-b9470b1d6bd3"
      },
      "source": [
        "#Take the input binary string\n",
        "pixel= \"00000000001000000000100000001000000000001000000001000000000000100000000100000001000000000010000000\"\n",
        "len(pixel)"
      ],
      "execution_count": null,
      "outputs": [
        {
          "output_type": "execute_result",
          "data": {
            "text/plain": [
              "98"
            ]
          },
          "metadata": {
            "tags": []
          },
          "execution_count": 33
        }
      ]
    },
    {
      "cell_type": "code",
      "metadata": {
        "colab": {
          "base_uri": "https://localhost:8080/"
        },
        "id": "1rvzOHMHLitf",
        "outputId": "9f059627-82b2-4a74-d4cc-cf8d79e897a3"
      },
      "source": [
        "#Find if zeros are more or ones are more\n",
        "if pixel.count(\"0\")> pixel.count(\"1\"):\n",
        "  print(\"zeros more\")\n",
        "else:\n",
        "  print(\"ones more\")"
      ],
      "execution_count": null,
      "outputs": [
        {
          "output_type": "stream",
          "text": [
            "zeros more\n"
          ],
          "name": "stdout"
        }
      ]
    },
    {
      "cell_type": "code",
      "metadata": {
        "colab": {
          "base_uri": "https://localhost:8080/"
        },
        "id": "k7R9CLJEHYZf",
        "outputId": "e2b59cdc-2289-4eef-c279-d20c10cab33a"
      },
      "source": [
        "#code to obtain runlength of zeros\n",
        "zero_pixel=[]\n",
        "count=0\n",
        "#Count the number of ones and append it to the list\n",
        "for i in pixel:\n",
        "  if i=='0':\n",
        "    count=count+1\n",
        "  else:\n",
        "    zero_pixel.append(count)\n",
        "    count=0\n",
        "zero_pixel.append(count)#to append the last value in count\n",
        "print(zero_pixel) "
      ],
      "execution_count": null,
      "outputs": [
        {
          "output_type": "stream",
          "text": [
            "[10, 9, 7, 11, 8, 12, 8, 7, 10, 7]\n"
          ],
          "name": "stdout"
        }
      ]
    },
    {
      "cell_type": "code",
      "metadata": {
        "colab": {
          "base_uri": "https://localhost:8080/"
        },
        "id": "tMOL-_7zKsev",
        "outputId": "fdeae302-e251-47d2-ea98-59d947361193"
      },
      "source": [
        "#to find probability of zeros and to find m\n",
        "\n",
        "p= sum(zero_pixel)/len(pixel)\n",
        "#print(p)\n",
        "m=int(round(math.log((1+p),2)/math.log((1/p),2)))\n",
        "#print(m)"
      ],
      "execution_count": null,
      "outputs": [
        {
          "output_type": "stream",
          "text": [
            "7\n"
          ],
          "name": "stdout"
        }
      ]
    },
    {
      "cell_type": "code",
      "metadata": {
        "id": "_jZTdTrdLAoM",
        "colab": {
          "base_uri": "https://localhost:8080/"
        },
        "outputId": "895b895f-cc2b-4542-f8c9-e56a38401587"
      },
      "source": [
        "#Assign Golomb code to run lengths of zeros in zero_pixel list\n",
        "encode= \"\"\n",
        "for i in zero_pixel:\n",
        "  temp=golomb(m,i)\n",
        "  encode=encode+temp+\"|\"\n",
        "print(encode)"
      ],
      "execution_count": 41,
      "outputs": [
        {
          "output_type": "stream",
          "text": [
            "10100|10011|1000|10101|10010|10110|10010|1000|10100|1000|\n"
          ],
          "name": "stdout"
        }
      ]
    },
    {
      "cell_type": "code",
      "metadata": {
        "colab": {
          "base_uri": "https://localhost:8080/"
        },
        "id": "JtXunsJDPTrR",
        "outputId": "f9b86ccb-6d75-4a13-f841-f71f99ec1062"
      },
      "source": [
        "compression_ratio = len(encode)/len(pixel)\n",
        "print(compression_ratio)"
      ],
      "execution_count": 46,
      "outputs": [
        {
          "output_type": "stream",
          "text": [
            "0.5816326530612245\n"
          ],
          "name": "stdout"
        }
      ]
    },
    {
      "cell_type": "code",
      "metadata": {
        "id": "AwvGKV3PPhjw"
      },
      "source": [
        ""
      ],
      "execution_count": null,
      "outputs": []
    }
  ]
}