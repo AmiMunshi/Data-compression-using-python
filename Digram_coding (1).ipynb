{
 "cells": [
  {
   "cell_type": "code",
   "execution_count": 1,
   "metadata": {
    "collapsed": false
   },
   "outputs": [
    {
     "name": "stdout",
     "output_type": "stream",
     "text": [
      "The given static dictionary for Digram Coding is:\n",
      "{'a': 0, 'c': 2, 'b': 1, 'd': 3, 'r': 4, 'ab': 5, 'ac': 6, 'ad': 7}\n",
      "\n",
      " Encoded String is:\n",
      "['101', '100', '110', '111', '101', '100']\n"
     ]
    }
   ],
   "source": [
    "##To implement static dictionary with Digram Coding\n",
    "## Source A= {a,b,c,d,r}\n",
    "import sys\n",
    "\n",
    "dict1= {'a': 0, 'b': 1, 'c': 2, 'd':3, 'r': 4, 'ab':5, 'ac':6, 'ad':7}\n",
    "print('The given static dictionary for Digram Coding is:')\n",
    "print(dict1)\n",
    "\n",
    "string1 = 'abracadabra'\n",
    "    \n",
    "list1= list(string1)\n",
    "\n",
    "i= 0\n",
    "list2=[]\n",
    "while i< (len(list1)-1):\n",
    "               \n",
    "        temp1=list1[i]\n",
    "        temp2= list1[i+1]\n",
    "        temp3= temp1+temp2\n",
    "        if temp3 in dict1:\n",
    "            list2.append(dict1[temp3])\n",
    "            \n",
    "            i=i+2\n",
    "        else:\n",
    "            list2.append(dict1[temp1])\n",
    "            \n",
    "            i=i+1\n",
    "\n",
    "encoded= str(list2)\n",
    "list3=[]\n",
    "for n in list2:\n",
    "    x= bin(n)[2:]\n",
    "    list3.append(x)\n",
    "print(\"\\n Encoded String is:\")\n",
    "binary_encoded= str(list3)   \n",
    "print(binary_encoded)\n",
    "\n",
    "\n",
    "        "
   ]
  },
  {
   "cell_type": "code",
   "execution_count": 2,
   "metadata": {
    "collapsed": false
   },
   "outputs": [
    {
     "name": "stdout",
     "output_type": "stream",
     "text": [
      "['1100001', '1100010', '1110010', '1100001', '1100011', '1100001', '1100100', '1100001', '1100010', '1110010', '1100001']\n",
      "\n",
      "Size of the given string is 154 bytes\n",
      "\n",
      "['101', '100', '110', '111', '101', '100']\n",
      "\n",
      "Size of the encoded string is 75 bytes\n"
     ]
    }
   ],
   "source": [
    "## To find size of actual string and encoded string\n",
    "list4=[]\n",
    "for k in list1:\n",
    "    list4.append(bin(ord(k))[2:])\n",
    "\n",
    "list4=str(list4)\n",
    "print(list4)\n",
    "print('\\nSize of the given string is '+ str(sys.getsizeof(list4))+\" bytes\\n\" )\n",
    "print(binary_encoded)\n",
    "print('\\nSize of the encoded string is '+ str(sys.getsizeof(binary_encoded)) +\" bytes\" )"
   ]
  },
  {
   "cell_type": "code",
   "execution_count": null,
   "metadata": {
    "collapsed": true
   },
   "outputs": [],
   "source": []
  }
 ],
 "metadata": {
  "kernelspec": {
   "display_name": "Python [Root]",
   "language": "python",
   "name": "Python [Root]"
  },
  "language_info": {
   "codemirror_mode": {
    "name": "ipython",
    "version": 2
   },
   "file_extension": ".py",
   "mimetype": "text/x-python",
   "name": "python",
   "nbconvert_exporter": "python",
   "pygments_lexer": "ipython2",
   "version": "2.7.12"
  }
 },
 "nbformat": 4,
 "nbformat_minor": 0
}
