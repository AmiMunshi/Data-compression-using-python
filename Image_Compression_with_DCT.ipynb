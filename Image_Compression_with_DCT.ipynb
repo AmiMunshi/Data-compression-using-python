{
  "nbformat": 4,
  "nbformat_minor": 0,
  "metadata": {
    "colab": {
      "name": "Image_Compression_with_DCT.ipynb",
      "provenance": [],
      "authorship_tag": "ABX9TyNl0QSrz8xMarOIj9/JYTat",
      "include_colab_link": true
    },
    "kernelspec": {
      "name": "python3",
      "display_name": "Python 3"
    }
  },
  "cells": [
    {
      "cell_type": "markdown",
      "metadata": {
        "id": "view-in-github",
        "colab_type": "text"
      },
      "source": [
        "<a href=\"https://colab.research.google.com/github/AmiMunshi/Data-compression-using-python/blob/master/Image_Compression_with_DCT.ipynb\" target=\"_parent\"><img src=\"https://colab.research.google.com/assets/colab-badge.svg\" alt=\"Open In Colab\"/></a>"
      ]
    },
    {
      "cell_type": "code",
      "metadata": {
        "id": "0TLhjIqyonwO",
        "colab_type": "code",
        "colab": {}
      },
      "source": [
        "import numpy as np\n",
        "import cv2\n",
        "import matplotlib.pyplot as plt\n",
        "from scipy.fftpack import dct, idct\n",
        "import random"
      ],
      "execution_count": 1,
      "outputs": []
    },
    {
      "cell_type": "code",
      "metadata": {
        "id": "igGwfaunozAR",
        "colab_type": "code",
        "colab": {}
      },
      "source": [
        "#Function to implement 2D DCT and IDCT\n",
        "def dct2(a):\n",
        "    return dct(dct( a, axis=0, norm='ortho' ), axis=1, norm='ortho' )\n",
        "\n",
        "def idct2(a):\n",
        "    return idct(idct( a, axis=0 , norm='ortho'), axis=1 , norm='ortho')"
      ],
      "execution_count": 2,
      "outputs": []
    },
    {
      "cell_type": "markdown",
      "metadata": {
        "id": "DsHDRxHHVHA8",
        "colab_type": "text"
      },
      "source": [
        "DCT and IDCT on a random matrix"
      ]
    },
    {
      "cell_type": "code",
      "metadata": {
        "id": "qDPTgqm0eiTo",
        "colab_type": "code",
        "colab": {
          "base_uri": "https://localhost:8080/",
          "height": 84
        },
        "outputId": "24ef7ece-38fd-49f0-e188-c88c35a7a9bb"
      },
      "source": [
        "# Generating random matrix of given size\n",
        "mat= np.random.randint(100,size=(4,4))\n",
        "print(mat)"
      ],
      "execution_count": 6,
      "outputs": [
        {
          "output_type": "stream",
          "text": [
            "[[39 48 59 91]\n",
            " [ 9  7 90 37]\n",
            " [28 73 49 18]\n",
            " [99 46 15 22]]\n"
          ],
          "name": "stdout"
        }
      ]
    },
    {
      "cell_type": "code",
      "metadata": {
        "id": "n1OTA-V7_MA0",
        "colab_type": "code",
        "colab": {}
      },
      "source": [
        ""
      ],
      "execution_count": null,
      "outputs": []
    },
    {
      "cell_type": "code",
      "metadata": {
        "id": "i1uNodV_fBBn",
        "colab_type": "code",
        "colab": {
          "base_uri": "https://localhost:8080/",
          "height": 84
        },
        "outputId": "21d6ec32-0d24-4742-ffa5-3a9230f7ebda"
      },
      "source": [
        "#Applying 2D DCT on the generated matrix by calling dct2 function\n",
        "matdct= dct2(mat)\n",
        "print(matdct)"
      ],
      "execution_count": 7,
      "outputs": [
        {
          "output_type": "stream",
          "text": [
            "[[182.5         -2.99017679 -11.          13.68608208]\n",
            " [ 14.58276514 -77.03122292  -8.7032318   11.25304833]\n",
            " [ 27.          24.73417485  52.5        -19.98676048]\n",
            " [ 15.60746491   9.25304833 -13.17208246 -40.96877708]]\n"
          ],
          "name": "stdout"
        }
      ]
    },
    {
      "cell_type": "code",
      "metadata": {
        "id": "lVtM5axJfLjn",
        "colab_type": "code",
        "colab": {
          "base_uri": "https://localhost:8080/",
          "height": 84
        },
        "outputId": "16685917-1450-4641-bee0-97caed503e5c"
      },
      "source": [
        "# Obtaining original matrix by applying idct2 function on the dct trasnformed matrix\n",
        "matidct= idct2(matdct)\n",
        "matidct=matidct.round().astype(int)\n",
        "print(matidct)"
      ],
      "execution_count": 9,
      "outputs": [
        {
          "output_type": "stream",
          "text": [
            "[[39 48 59 91]\n",
            " [ 9  7 90 37]\n",
            " [28 73 49 18]\n",
            " [99 46 15 22]]\n"
          ],
          "name": "stdout"
        }
      ]
    },
    {
      "cell_type": "markdown",
      "metadata": {
        "id": "MdCpVTh3Voku",
        "colab_type": "text"
      },
      "source": [
        "DCT on image with and without compression"
      ]
    },
    {
      "cell_type": "code",
      "metadata": {
        "id": "aVk9QixGfTH-",
        "colab_type": "code",
        "colab": {}
      },
      "source": [
        "img = cv2.imread('/cameraman.png',0)  # Read the image\n",
        "m,n= img.shape #Find and store size of image in m,n"
      ],
      "execution_count": 10,
      "outputs": []
    },
    {
      "cell_type": "code",
      "metadata": {
        "id": "46ddTl4vgXOx",
        "colab_type": "code",
        "colab": {
          "base_uri": "https://localhost:8080/",
          "height": 286
        },
        "outputId": "52967229-9f37-4b8c-9062-d42517c17d52"
      },
      "source": [
        "#Find DCT of the given image using DCT function \n",
        "N= 8 #Size of the block\n",
        "imgdct = np.zeros((m,n), dtype=int)\n",
        "for row in range(m//N):\n",
        "        for col in range(n//N):\n",
        "               imgdct[row*N:(row+1)*N,col*N:(col+1)*N]= dct2(img[row*N:(row+1)*N,col*N:(col+1)*N])\n",
        "plt.imshow(imgdct, cmap=\"gray\")\n"
      ],
      "execution_count": 11,
      "outputs": [
        {
          "output_type": "execute_result",
          "data": {
            "text/plain": [
              "<matplotlib.image.AxesImage at 0x7fda3bd29668>"
            ]
          },
          "metadata": {
            "tags": []
          },
          "execution_count": 11
        },
        {
          "output_type": "display_data",
          "data": {
            "image/png": "[encoded data removed]",
            "text/plain": [
              "<Figure size 432x288 with 1 Axes>"
            ]
          },
          "metadata": {
            "tags": [],
            "needs_background": "light"
          }
        }
      ]
    },
    {
      "cell_type": "code",
      "metadata": {
        "id": "qM-7nuu5hpem",
        "colab_type": "code",
        "colab": {}
      },
      "source": [
        ""
      ],
      "execution_count": null,
      "outputs": []
    },
    {
      "cell_type": "code",
      "metadata": {
        "id": "XwF9k1xp8Yow",
        "colab_type": "code",
        "colab": {
          "base_uri": "https://localhost:8080/",
          "height": 34
        },
        "outputId": "c0d8b316-5d6d-44e4-dce1-0ce168e1370c"
      },
      "source": [
        "x,y= imgdct.shape #obtain size of dct transformed matrix\n",
        "print(x,y)"
      ],
      "execution_count": 13,
      "outputs": [
        {
          "output_type": "stream",
          "text": [
            "256 256\n"
          ],
          "name": "stdout"
        }
      ]
    },
    {
      "cell_type": "code",
      "metadata": {
        "id": "30UGYH4Ju-Fw",
        "colab_type": "code",
        "colab": {}
      },
      "source": [
        "#For compression, retaining only P percent coefficients with max magnitude. \n",
        "\n",
        "imgthresh= np.zeros((x,y), dtype= int)\n",
        "B= abs(imgdct)\n",
        "B=B.flatten()\n",
        "B= np.sort(B)\n",
        "P= 2 #Percent of coefficients to be retained with the max magnitude\n",
        "n= int((1-P/100)*(x*y)) \n",
        "retain= B[n: len(B)] # Retaining top P percent coefficients\n",
        "\n",
        "for row in range(x):\n",
        "  for col in range(y):\n",
        "    \n",
        "    if imgdct[row,col] in retain:\n",
        "      imgthresh[row,col]= imgdct[row,col]\n",
        "\n"
      ],
      "execution_count": 14,
      "outputs": []
    },
    {
      "cell_type": "code",
      "metadata": {
        "id": "9pHyIHazCWfZ",
        "colab_type": "code",
        "colab": {
          "base_uri": "https://localhost:8080/",
          "height": 34
        },
        "outputId": "3b2fb3cd-c8f2-4693-f270-69bb5a78bce7"
      },
      "source": [
        "# Finding the nonzero values in the compressed matrix\n",
        "ind,val= np.unique(imgthresh,return_counts=True)\n",
        "nonzeros = np.sum(val[np.where(ind!=0)])\n",
        "print(nonzeros)"
      ],
      "execution_count": 15,
      "outputs": [
        {
          "output_type": "stream",
          "text": [
            "1113\n"
          ],
          "name": "stdout"
        }
      ]
    },
    {
      "cell_type": "code",
      "metadata": {
        "id": "_UCtNsqiXZyG",
        "colab_type": "code",
        "colab": {
          "base_uri": "https://localhost:8080/",
          "height": 34
        },
        "outputId": "10bc89de-b5ca-465d-cc90-5c9fff21f0e6"
      },
      "source": [
        "#finding nonzero values in the compressed matrix\n",
        "nonzeros= np.sum([imgthresh!=0])\n",
        "print(nonzeros)"
      ],
      "execution_count": 16,
      "outputs": [
        {
          "output_type": "stream",
          "text": [
            "1113\n"
          ],
          "name": "stdout"
        }
      ]
    },
    {
      "cell_type": "code",
      "metadata": {
        "id": "CVnNzYyjCppH",
        "colab_type": "code",
        "colab": {
          "base_uri": "https://localhost:8080/",
          "height": 34
        },
        "outputId": "3c2f7e99-0c19-4622-b0ab-5579b0d10c05"
      },
      "source": [
        "#Compression Ratio\n",
        "CR= m*n/nonzeros\n",
        "print(CR)"
      ],
      "execution_count": 17,
      "outputs": [
        {
          "output_type": "stream",
          "text": [
            "14772.327044025158\n"
          ],
          "name": "stdout"
        }
      ]
    },
    {
      "cell_type": "code",
      "metadata": {
        "id": "aYUz0U2O83Ti",
        "colab_type": "code",
        "colab": {
          "base_uri": "https://localhost:8080/",
          "height": 34
        },
        "outputId": "3b5edbb9-48ea-4950-96a1-791461e20db2"
      },
      "source": [
        "imgthresh.shape"
      ],
      "execution_count": null,
      "outputs": [
        {
          "output_type": "execute_result",
          "data": {
            "text/plain": [
              "(500, 500)"
            ]
          },
          "metadata": {
            "tags": []
          },
          "execution_count": 22
        }
      ]
    },
    {
      "cell_type": "code",
      "metadata": {
        "id": "iKdJPa_a8u79",
        "colab_type": "code",
        "colab": {}
      },
      "source": [
        ""
      ],
      "execution_count": null,
      "outputs": []
    },
    {
      "cell_type": "code",
      "metadata": {
        "id": "YGLCL0lhiSHq",
        "colab_type": "code",
        "colab": {
          "base_uri": "https://localhost:8080/",
          "height": 286
        },
        "outputId": "4d4ca53a-5ab6-43ab-d739-8da44ca75a65"
      },
      "source": [
        "#Find IDCT of the given image after thresholding using IDCT function\n",
        "imgidct1 = np.zeros((x,y), dtype=int)\n",
        "for row in range(x//N):\n",
        "        for col in range(y//N):\n",
        "               imgidct1[row*N:(row+1)*N,col*N:(col+1)*N]= idct2(imgthresh[row*N:(row+1)*N,col*N:(col+1)*N])\n",
        "plt.imshow(imgidct1, cmap=\"gray\")"
      ],
      "execution_count": 18,
      "outputs": [
        {
          "output_type": "execute_result",
          "data": {
            "text/plain": [
              "<matplotlib.image.AxesImage at 0x7fda3b7bd780>"
            ]
          },
          "metadata": {
            "tags": []
          },
          "execution_count": 18
        },
        {
          "output_type": "display_data",
          "data": {
            "image/png": "[encoded data removed]",
            "text/plain": [
              "<Figure size 432x288 with 1 Axes>"
            ]
          },
          "metadata": {
            "tags": [],
            "needs_background": "light"
          }
        }
      ]
    },
    {
      "cell_type": "code",
      "metadata": {
        "id": "gw_E9n_Mi4Mr",
        "colab_type": "code",
        "colab": {
          "base_uri": "https://localhost:8080/",
          "height": 34
        },
        "outputId": "9253fccb-f27f-46de-a519-1e97748c061d"
      },
      "source": [
        "#Example of retaining top 50% of highest value components\n",
        "A= [1,3,6,2,1,4,9,7]\n",
        "B=sorted(A)\n",
        "print(B)"
      ],
      "execution_count": 19,
      "outputs": [
        {
          "output_type": "stream",
          "text": [
            "[1, 1, 2, 3, 4, 6, 7, 9]\n"
          ],
          "name": "stdout"
        }
      ]
    },
    {
      "cell_type": "code",
      "metadata": {
        "id": "sa2WRDnizqyP",
        "colab_type": "code",
        "colab": {
          "base_uri": "https://localhost:8080/",
          "height": 34
        },
        "outputId": "f0c4dc6f-4cd3-4602-e1ce-1b28d381e3a1"
      },
      "source": [
        "n=len(A)\n",
        "Anew=np.zeros(n,dtype=int)\n",
        "l= B[4:8]\n",
        "for i in range(n):\n",
        "  if A[i] in l:\n",
        "    Anew[i]=A[i]\n",
        "print(Anew)"
      ],
      "execution_count": 20,
      "outputs": [
        {
          "output_type": "stream",
          "text": [
            "[0 0 6 0 0 4 9 7]\n"
          ],
          "name": "stdout"
        }
      ]
    },
    {
      "cell_type": "code",
      "metadata": {
        "id": "AMt1BDjM0NNq",
        "colab_type": "code",
        "colab": {}
      },
      "source": [
        ""
      ],
      "execution_count": null,
      "outputs": []
    }
  ]
}