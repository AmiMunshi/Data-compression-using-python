{
  "nbformat": 4,
  "nbformat_minor": 0,
  "metadata": {
    "colab": {
      "name": "Linear Block Code.ipynb",
      "provenance": [],
      "authorship_tag": "ABX9TyPeOtRvWZhJObo7e/ncpEYy",
      "include_colab_link": true
    },
    "kernelspec": {
      "name": "python3",
      "display_name": "Python 3"
    }
  },
  "cells": [
    {
      "cell_type": "markdown",
      "metadata": {
        "id": "view-in-github",
        "colab_type": "text"
      },
      "source": [
        "<a href=\"https://colab.research.google.com/github/AmiMunshi/Data-compression-using-python/blob/master/Linear_Block_Code.ipynb\" target=\"_parent\"><img src=\"https://colab.research.google.com/assets/colab-badge.svg\" alt=\"Open In Colab\"/></a>"
      ]
    },
    {
      "cell_type": "code",
      "metadata": {
        "id": "ha5wK98CO1Xj"
      },
      "source": [
        "import numpy as np\r\n"
      ],
      "execution_count": 1,
      "outputs": []
    },
    {
      "cell_type": "code",
      "metadata": {
        "id": "TuOpi05eN53H"
      },
      "source": [
        "G= np.array([[1,0,0,1,0,1], [0,1,0,0,1,1], [0,0,1,1,1,0]]) #Generator Matrix\r\n",
        "m= np.array([1,0,1]) # Data or message word"
      ],
      "execution_count": 2,
      "outputs": []
    },
    {
      "cell_type": "code",
      "metadata": {
        "colab": {
          "base_uri": "https://localhost:8080/"
        },
        "id": "MQ50BDmAO-1Z",
        "outputId": "958df289-72e3-463e-fa8f-4a04b9e8c240"
      },
      "source": [
        "C= m.dot(G) % 2 #Code word is C=mG\r\n",
        "print(C)"
      ],
      "execution_count": 3,
      "outputs": [
        {
          "output_type": "execute_result",
          "data": {
            "text/plain": [
              "array([1, 0, 1, 0, 1, 1])"
            ]
          },
          "metadata": {
            "tags": []
          },
          "execution_count": 3
        }
      ]
    },
    {
      "cell_type": "code",
      "metadata": {
        "colab": {
          "base_uri": "https://localhost:8080/"
        },
        "id": "dB7_HyJ9PNfZ",
        "outputId": "7d2ec54b-7d9c-4838-ccdc-a012f5e34ff1"
      },
      "source": [
        "#Generating Codeword for all the possible data words\r\n",
        "for i in range(2):\r\n",
        "  for j in range(2):\r\n",
        "    for k in range(2):\r\n",
        "      m= np.array([i,j,k])\r\n",
        "      C=m.dot(G)%2\r\n",
        "      print(C)\r\n",
        "\r\n",
        "     "
      ],
      "execution_count": 4,
      "outputs": [
        {
          "output_type": "stream",
          "text": [
            "[0 0 0 0 0 0]\n",
            "[0 0 1 1 1 0]\n",
            "[0 1 0 0 1 1]\n",
            "[0 1 1 1 0 1]\n",
            "[1 0 0 1 0 1]\n",
            "[1 0 1 0 1 1]\n",
            "[1 1 0 1 1 0]\n",
            "[1 1 1 0 0 0]\n"
          ],
          "name": "stdout"
        }
      ]
    },
    {
      "cell_type": "code",
      "metadata": {
        "id": "4VxE3WrZP773",
        "colab": {
          "base_uri": "https://localhost:8080/"
        },
        "outputId": "1221972f-6c95-4c40-f27c-f997ec7c52ad"
      },
      "source": [
        "P = G[:, 3:6]\r\n",
        "print(P)"
      ],
      "execution_count": 6,
      "outputs": [
        {
          "output_type": "stream",
          "text": [
            "[[1 0 1]\n",
            " [0 1 1]\n",
            " [1 1 0]]\n"
          ],
          "name": "stdout"
        }
      ]
    },
    {
      "cell_type": "code",
      "metadata": {
        "id": "qsQ3b3waPXEH"
      },
      "source": [
        "I= np.identity(3, dtype=int)"
      ],
      "execution_count": 14,
      "outputs": []
    },
    {
      "cell_type": "code",
      "metadata": {
        "colab": {
          "base_uri": "https://localhost:8080/"
        },
        "id": "qCSGJ7uMOvQ7",
        "outputId": "619e46da-3e82-4d0f-be18-a19ed946f463"
      },
      "source": [
        "H= np.concatenate((P, I), axis=1)\r\n",
        "print(H)"
      ],
      "execution_count": 24,
      "outputs": [
        {
          "output_type": "stream",
          "text": [
            "[[1 0 1 1 0 0]\n",
            " [0 1 1 0 1 0]\n",
            " [1 1 0 0 0 1]]\n"
          ],
          "name": "stdout"
        }
      ]
    },
    {
      "cell_type": "code",
      "metadata": {
        "colab": {
          "base_uri": "https://localhost:8080/"
        },
        "id": "KkXTjPZZPJ4U",
        "outputId": "95d7cc9c-50e2-4ac2-b721-5b96e20195f0"
      },
      "source": [
        "HT= H.T #Transpose of T\r\n",
        "print(HT)"
      ],
      "execution_count": 26,
      "outputs": [
        {
          "output_type": "stream",
          "text": [
            "[[1 0 1]\n",
            " [0 1 1]\n",
            " [1 1 0]\n",
            " [1 0 0]\n",
            " [0 1 0]\n",
            " [0 0 1]]\n"
          ],
          "name": "stdout"
        }
      ]
    },
    {
      "cell_type": "code",
      "metadata": {
        "colab": {
          "base_uri": "https://localhost:8080/"
        },
        "id": "Rjva4NeDPxHa",
        "outputId": "a3dccbd2-e19f-41b5-c9d3-7f8dc6b9f612"
      },
      "source": [
        "r= np.array([[1,1,0,0,1,0]])#Received Codeword\r\n",
        "S= r.dot(HT)%2 #Calculate Syndrome\r\n",
        "print(S)"
      ],
      "execution_count": 48,
      "outputs": [
        {
          "output_type": "stream",
          "text": [
            "[[1 0 0]]\n"
          ],
          "name": "stdout"
        }
      ]
    },
    {
      "cell_type": "code",
      "metadata": {
        "colab": {
          "base_uri": "https://localhost:8080/"
        },
        "id": "5yUzn4QkQIBF",
        "outputId": "cb790972-05c0-4d36-ad2b-0dda7ea14c79"
      },
      "source": [
        "#To find the location of the erroneous bit\r\n",
        "ebit=np.where((HT == S).all(axis=1))\r\n",
        "print(\"bit in error is: \",ebit[0])"
      ],
      "execution_count": 50,
      "outputs": [
        {
          "output_type": "stream",
          "text": [
            "bit in error is:  [3]\n"
          ],
          "name": "stdout"
        }
      ]
    },
    {
      "cell_type": "code",
      "metadata": {
        "colab": {
          "base_uri": "https://localhost:8080/"
        },
        "id": "1FPtS45OSdkS",
        "outputId": "9d948a79-78a0-4a45-aabf-20f46cb038ce"
      },
      "source": [
        "#Error Vector Table\r\n",
        "e= np.identity(6, dtype=int)\r\n",
        "print(e)"
      ],
      "execution_count": 41,
      "outputs": [
        {
          "output_type": "stream",
          "text": [
            "[[1 0 0 0 0 0]\n",
            " [0 1 0 0 0 0]\n",
            " [0 0 1 0 0 0]\n",
            " [0 0 0 1 0 0]\n",
            " [0 0 0 0 1 0]\n",
            " [0 0 0 0 0 1]]\n"
          ],
          "name": "stdout"
        }
      ]
    },
    {
      "cell_type": "code",
      "metadata": {
        "colab": {
          "base_uri": "https://localhost:8080/"
        },
        "id": "7_cxIH8oUk19",
        "outputId": "610396e1-544e-42ad-98a8-4eb7935f0026"
      },
      "source": [
        "#Extract Error Vector Corresponding to the Erroneous bit\r\n",
        "evector= e[ebit[0],:]\r\n",
        "print(evector)"
      ],
      "execution_count": 43,
      "outputs": [
        {
          "output_type": "stream",
          "text": [
            "[[0 0 0 1 0 0]]\n"
          ],
          "name": "stdout"
        }
      ]
    },
    {
      "cell_type": "code",
      "metadata": {
        "colab": {
          "base_uri": "https://localhost:8080/"
        },
        "id": "on2oWw46UyHo",
        "outputId": "253f77e7-1ea0-4227-a802-90cd7663d060"
      },
      "source": [
        "#Corrected Codeword\r\n",
        "c=(r+evector)%2\r\n",
        "print(\"Corrected Codeword is \", c)"
      ],
      "execution_count": 51,
      "outputs": [
        {
          "output_type": "stream",
          "text": [
            "Corrected Codeword  [[1 1 0 1 1 0]]\n"
          ],
          "name": "stdout"
        }
      ]
    },
    {
      "cell_type": "code",
      "metadata": {
        "id": "8Py6atpGVCDJ"
      },
      "source": [
        ""
      ],
      "execution_count": null,
      "outputs": []
    }
  ]
}