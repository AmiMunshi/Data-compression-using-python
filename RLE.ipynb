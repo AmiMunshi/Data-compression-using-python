{
  "nbformat": 4,
  "nbformat_minor": 0,
  "metadata": {
    "colab": {
      "name": "RLE.ipynb",
      "provenance": [],
      "authorship_tag": "ABX9TyN82m2vyiyNwrnZHYvzoxaW",
      "include_colab_link": true
    },
    "kernelspec": {
      "name": "python3",
      "display_name": "Python 3"
    }
  },
  "cells": [
    {
      "cell_type": "markdown",
      "metadata": {
        "id": "view-in-github",
        "colab_type": "text"
      },
      "source": [
        "<a href=\"https://colab.research.google.com/github/AmiMunshi/Data-compression-using-python/blob/master/RLE.ipynb\" target=\"_parent\"><img src=\"https://colab.research.google.com/assets/colab-badge.svg\" alt=\"Open In Colab\"/></a>"
      ]
    },
    {
      "cell_type": "code",
      "metadata": {
        "colab": {
          "base_uri": "https://localhost:8080/"
        },
        "id": "2gLry859e2dT",
        "outputId": "9494d98b-672c-450a-db08-64f093c9a782"
      },
      "source": [
        "## Run length encoding\r\n",
        "#Input the string from the user\r\n",
        "data= list(input(\"Enter string: \"))\r\n",
        "\r\n",
        "#Count the consecutive repeated characters.\r\n",
        "#print the character and count\r\n",
        "data.append('')\r\n",
        "count=0\r\n",
        "for i in range(len(data)):\r\n",
        "    try:\r\n",
        "        if (data[i] in data)>0:\r\n",
        "            count =count+1\r\n",
        "        if data[i]!=data[i+1]:\r\n",
        "            print(data[i], count)\r\n",
        "            count=0\r\n",
        "    except IndexError:\r\n",
        "        print()"
      ],
      "execution_count": 2,
      "outputs": [
        {
          "output_type": "stream",
          "text": [
            "Enter string: aabbcc\n",
            "a 2\n",
            "b 2\n",
            "c 2\n",
            "\n"
          ],
          "name": "stdout"
        }
      ]
    },
    {
      "cell_type": "code",
      "metadata": {
        "id": "zSTPrdT5fJqe"
      },
      "source": [
        "## Run length encoding\r\n",
        "#Count the consecutive repeated characters.\r\n",
        "#print the character and count as a tuple\r\n",
        "string=input('Enter string: ')\r\n",
        "data= list(string)\r\n",
        "\r\n",
        "encoded=[]\r\n",
        "data.append('')\r\n",
        "count=0\r\n",
        "for i in range(len(data)):\r\n",
        "    try:\r\n",
        "        if (data[i] in data)>0:\r\n",
        "            count =count+1\r\n",
        "           \r\n",
        "        if data[i]!=data[i+1]:\r\n",
        "            encoded.append((data[i],count))\r\n",
        "            count=0\r\n",
        "    except IndexError:\r\n",
        "            print(encoded)"
      ],
      "execution_count": null,
      "outputs": []
    }
  ]
}