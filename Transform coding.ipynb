{
 "cells": [
  {
   "cell_type": "markdown",
   "metadata": {},
   "source": [
    "Transform coding\n"
   ]
  },
  {
   "cell_type": "code",
   "execution_count": 2,
   "metadata": {},
   "outputs": [],
   "source": [
    "import numpy as np\n",
    "import math\n",
    "import matplotlib.pyplot as plt"
   ]
  },
  {
   "cell_type": "code",
   "execution_count": 8,
   "metadata": {},
   "outputs": [
    {
     "name": "stdout",
     "output_type": "stream",
     "text": [
      "Original sequence for height: [65 75 60 70 56 80 68 50 40 50 69 62 76 64]\n",
      "Original sequence for weight: [170 188 150 170 130 203 160 110  80 153 148 140 164 120]\n"
     ]
    }
   ],
   "source": [
    "x0=np.array([65,75,60,70,56,80,68,50,40,50,69,62,76,64])\n",
    "x1=np.array([170,188,150,170,130,203,160,110,80,153,148,140,164,120])\n",
    "print(\"Original sequence for height:\",x0)\n",
    "print(\"Original sequence for weight:\",x1)"
   ]
  },
  {
   "cell_type": "code",
   "execution_count": 16,
   "metadata": {},
   "outputs": [
    {
     "data": {
      "text/plain": [
       "[<matplotlib.lines.Line2D at 0x173009b2248>]"
      ]
     },
     "execution_count": 16,
     "metadata": {},
     "output_type": "execute_result"
    },
    {
     "data": {
      "image/png": "[encoded data removed]",
      "text/plain": [
       "<Figure size 432x288 with 1 Axes>"
      ]
     },
     "metadata": {
      "needs_background": "light"
     },
     "output_type": "display_data"
    }
   ],
   "source": [
    "plt.scatter(x0,x1)\n",
    "m,b= np.polyfit(x0,x1,1)\n",
    "\n",
    "plt.plot(x0,x0*m+b, 'r')"
   ]
  },
  {
   "cell_type": "code",
   "execution_count": 17,
   "metadata": {},
   "outputs": [
    {
     "name": "stdout",
     "output_type": "stream",
     "text": [
      "2.4178663071369546\n"
     ]
    }
   ],
   "source": [
    "print(m)"
   ]
  },
  {
   "cell_type": "code",
   "execution_count": 19,
   "metadata": {},
   "outputs": [
    {
     "name": "stdout",
     "output_type": "stream",
     "text": [
      "Slope: 2.41\n",
      "Angle of transformation matrix: 1.177479262631279\n"
     ]
    }
   ],
   "source": [
    "m=2.41 # slope of the line\n",
    "print(\"Slope:\",m)\n",
    "s=math.atan(m) # Find the angle for tranfomation matrix \n",
    "#s= round(s*180/np.pi,2)\n",
    "print(\"Angle of transformation matrix:\",s)\n"
   ]
  },
  {
   "cell_type": "code",
   "execution_count": 20,
   "metadata": {},
   "outputs": [
    {
     "name": "stdout",
     "output_type": "stream",
     "text": [
      "[[ 0.3832543   0.92364286]\n",
      " [-0.92364286  0.3832543 ]]\n"
     ]
    }
   ],
   "source": [
    "A=np.array([[math.cos(s), math.sin(s)], [(-(math.sin(s))), math.cos(s)]])\n",
    "print(A)"
   ]
  },
  {
   "cell_type": "code",
   "execution_count": 28,
   "metadata": {},
   "outputs": [
    {
     "data": {
      "text/plain": [
       "'\"\\nt0= A[0,0]*x0 + A[0,1]*x1\\nt1= A[1,0]*x1 + A[1,1]*x1\\n'"
      ]
     },
     "execution_count": 28,
     "metadata": {},
     "output_type": "execute_result"
    }
   ],
   "source": [
    "\"\"\"\"\n",
    "t0= A[0,0]*x0 + A[0,1]*x1\n",
    "t1= A[1,0]*x0 + A[1,1]*x1\n",
    "\"\"\""
   ]
  },
  {
   "cell_type": "code",
   "execution_count": 31,
   "metadata": {},
   "outputs": [],
   "source": [
    "#Creating vectors to store the transformed value\n",
    "t0= np.array(np.zeros(len(x0)), dtype=int)\n",
    "t1= np.array(np.zeros(len(x0)), dtype=int)"
   ]
  },
  {
   "cell_type": "code",
   "execution_count": 32,
   "metadata": {},
   "outputs": [
    {
     "name": "stdout",
     "output_type": "stream",
     "text": [
      "[181 202 161 183 141 218 173 120  89 160 163 153 180 135]\n",
      "[  5   2   2   0  -1   3  -1  -4  -6  12  -7  -3  -7 -13]\n"
     ]
    }
   ],
   "source": [
    "#To find the value of the compressed data t= Ax\n",
    "for i in range(len(x0)):\n",
    "    t0[i]= A[0,0]*x0[i] + A[0,1]*x1[i]\n",
    "    t1[i]= A[1,0]*x0[i] + A[1,1]*x1[i]\n",
    "print(t0)\n",
    "print(t1)"
   ]
  },
  {
   "cell_type": "code",
   "execution_count": null,
   "metadata": {},
   "outputs": [],
   "source": [
    "# To achieve compression, discard t1 vector \n",
    "#CR= 28/14=2\n"
   ]
  },
  {
   "cell_type": "code",
   "execution_count": 33,
   "metadata": {},
   "outputs": [
    {
     "name": "stdout",
     "output_type": "stream",
     "text": [
      "[[ 0.3832543  -0.92364286]\n",
      " [ 0.92364286  0.3832543 ]]\n"
     ]
    }
   ],
   "source": [
    "# For decompression, make values of t1 vector equal to zero\n",
    "t1= np.array(np.zeros(len(x0)), dtype=int)\n",
    "# Obtain transform matrix inverse to recover the compressed data\n",
    "Ainv= np.linalg.inv(A)\n",
    "print(Ainv)"
   ]
  },
  {
   "cell_type": "code",
   "execution_count": 34,
   "metadata": {},
   "outputs": [],
   "source": [
    "#Creating vectors to store the recovered value\n",
    "x0est= np.array(np.zeros(len(x0)), dtype=int)\n",
    "x1est= np.array(np.zeros(len(x0)), dtype=int)"
   ]
  },
  {
   "cell_type": "code",
   "execution_count": 35,
   "metadata": {},
   "outputs": [
    {
     "name": "stdout",
     "output_type": "stream",
     "text": [
      "[69 77 61 70 54 83 66 45 34 61 62 58 68 51]\n",
      "[167 186 148 169 130 201 159 110  82 147 150 141 166 124]\n"
     ]
    }
   ],
   "source": [
    "#To find the value of the reconstructed/recovered/estimated data xest= Ainv*t\n",
    "for i in range(len(x0)):\n",
    "    x0est[i]= Ainv[0,0]*t0[i] + Ainv[0,1]*t1[i]\n",
    "    x1est[i]= Ainv[1,0]*t0[i] + Ainv[1,1]*t1[i]\n",
    "print(x0est)\n",
    "print(x1est)"
   ]
  },
  {
   "cell_type": "code",
   "execution_count": 49,
   "metadata": {},
   "outputs": [
    {
     "name": "stdout",
     "output_type": "stream",
     "text": [
      "37.0 6.285714285714286\n"
     ]
    }
   ],
   "source": [
    "#5.86, 2.42\n",
    "#\n",
    "# To find Mean Square Error\n",
    "\n",
    "sumh=0\n",
    "sumw=0\n",
    "for i in range(len(x0)):\n",
    "    sumh= sumh+((x0[i]-x0est[i]))**2\n",
    "    sumw= sumw+((x1[i]-x1est[i]))**2\n",
    "mseh= sumh/len(x0)\n",
    "msew= sumw/len(x0)\n",
    "  \n",
    "print(mseh,msew)"
   ]
  },
  {
   "cell_type": "code",
   "execution_count": 47,
   "metadata": {},
   "outputs": [
    {
     "name": "stdout",
     "output_type": "stream",
     "text": [
      "37.0\n"
     ]
    }
   ],
   "source": [
    "mse = (np.square(x0 - x0est)).mean(axis= None)\n",
    "print(mse)"
   ]
  },
  {
   "cell_type": "code",
   "execution_count": null,
   "metadata": {},
   "outputs": [],
   "source": []
  }
 ],
 "metadata": {
  "kernelspec": {
   "display_name": "Python 3",
   "language": "python",
   "name": "python3"
  },
  "language_info": {
   "codemirror_mode": {
    "name": "ipython",
    "version": 3
   },
   "file_extension": ".py",
   "mimetype": "text/x-python",
   "name": "python",
   "nbconvert_exporter": "python",
   "pygments_lexer": "ipython3",
   "version": "3.7.6"
  }
 },
 "nbformat": 4,
 "nbformat_minor": 4
}
